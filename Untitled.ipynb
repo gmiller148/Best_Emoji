{
 "cells": [
  {
   "cell_type": "code",
   "execution_count": 13,
   "metadata": {},
   "outputs": [],
   "source": [
    "with open (\"1601433701182-backup.txt\", \"r\") as myfile:\n",
    "    data=myfile.readlines()"
   ]
  },
  {
   "cell_type": "code",
   "execution_count": 28,
   "metadata": {},
   "outputs": [
    {
     "name": "stdout",
     "output_type": "stream",
     "text": [
      "Collecting demjson\n",
      "  Downloading demjson-2.2.4.tar.gz (131 kB)\n",
      "\u001b[K     |████████████████████████████████| 131 kB 396 kB/s eta 0:00:01\n",
      "\u001b[?25hBuilding wheels for collected packages: demjson\n",
      "  Building wheel for demjson (setup.py) ... \u001b[?25ldone\n",
      "\u001b[?25h  Created wheel for demjson: filename=demjson-2.2.4-py3-none-any.whl size=73544 sha256=d01a44b54421a011201b1717f5b3e7974fbbff781ecdd6a1e8f2cb4b87bac2d2\n",
      "  Stored in directory: /Users/grantmiller/Library/Caches/pip/wheels/41/94/3d/466801f4a8db8e6fce765d7a0115dfebcc55ddf6b00cd98f59\n",
      "Successfully built demjson\n",
      "Installing collected packages: demjson\n",
      "Successfully installed demjson-2.2.4\n",
      "\u001b[33mWARNING: You are using pip version 20.1.1; however, version 20.2.3 is available.\n",
      "You should consider upgrading via the '/usr/local/bin/python3 -m pip install --upgrade pip' command.\u001b[0m\n"
     ]
    }
   ],
   "source": [
    "!pip3 install demjson"
   ]
  },
  {
   "cell_type": "code",
   "execution_count": 29,
   "metadata": {},
   "outputs": [],
   "source": [
    "import demjson"
   ]
  },
  {
   "cell_type": "code",
   "execution_count": 33,
   "metadata": {},
   "outputs": [],
   "source": [
    "d = {\n",
    "    'name':[],\n",
    "    'wins':[],\n",
    "    'losses':[],\n",
    "    'elo':[]\n",
    "}\n",
    "for i in range(0,len(data),8):\n",
    "    name = data[i+2].replace('\\n','')\n",
    "    wins = data[i+3].replace('\\n','')\n",
    "    losses = data[i+4].replace('\\n','')\n",
    "    elo = data[i+5].replace('\\n','').replace(',','')\n",
    "    obj = (demjson.decode('{' + name + wins + losses + elo + '}'))\n",
    "    d['name'].append(obj['name'])\n",
    "    d['wins'].append(obj['wins'])\n",
    "    d['losses'].append(obj['losses'])\n",
    "    d['elo'].append(float(obj['elo']))"
   ]
  },
  {
   "cell_type": "code",
   "execution_count": 37,
   "metadata": {},
   "outputs": [],
   "source": [
    "import pandas as pd\n",
    "\n",
    "df = pd.DataFrame.from_dict(d)"
   ]
  },
  {
   "cell_type": "code",
   "execution_count": null,
   "metadata": {},
   "outputs": [],
   "source": [
    "df"
   ]
  }
 ],
 "metadata": {
  "kernelspec": {
   "display_name": "Python 3",
   "language": "python",
   "name": "python3"
  },
  "language_info": {
   "codemirror_mode": {
    "name": "ipython",
    "version": 3
   },
   "file_extension": ".py",
   "mimetype": "text/x-python",
   "name": "python",
   "nbconvert_exporter": "python",
   "pygments_lexer": "ipython3",
   "version": "3.7.0"
  }
 },
 "nbformat": 4,
 "nbformat_minor": 2
}
